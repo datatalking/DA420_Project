{
 "cells": [
  {
   "cell_type": "markdown",
   "source": [
    "Since this is a python 2 notebook I figure lets see if I can fix old code and get it working."
   ],
   "metadata": {
    "collapsed": false,
    "pycharm": {
     "name": "#%% md\n"
    }
   }
  },
  {
   "cell_type": "code",
   "execution_count": null,
   "outputs": [
    {
     "name": "stdout",
     "output_type": "stream",
     "text": [
      "Requirement already satisfied: pip in /Users/wadewilson/opt/anaconda3/envs/DA420_Project/lib/python3.7/site-packages (22.1.2)\r\n",
      "Requirement already satisfied: pandas in /Users/wadewilson/opt/anaconda3/envs/DA420_Project/lib/python3.7/site-packages (1.3.5)\r\n",
      "Requirement already satisfied: pytz>=2017.3 in /Users/wadewilson/opt/anaconda3/envs/DA420_Project/lib/python3.7/site-packages (from pandas) (2022.1)\r\n",
      "Requirement already satisfied: python-dateutil>=2.7.3 in /Users/wadewilson/opt/anaconda3/envs/DA420_Project/lib/python3.7/site-packages (from pandas) (2.8.2)\r\n",
      "Requirement already satisfied: numpy>=1.17.3 in /Users/wadewilson/opt/anaconda3/envs/DA420_Project/lib/python3.7/site-packages (from pandas) (1.21.6)\r\n",
      "Requirement already satisfied: six>=1.5 in /Users/wadewilson/opt/anaconda3/envs/DA420_Project/lib/python3.7/site-packages (from python-dateutil>=2.7.3->pandas) (1.16.0)\r\n",
      "\r\n",
      "Usage:   \r\n",
      "  pip3 install [options] <requirement specifier> [package-index-options] ...\r\n",
      "  pip3 install [options] -r <requirements file> [package-index-options] ...\r\n",
      "  pip3 install [options] [-e] <vcs project url> ...\r\n",
      "  pip3 install [options] [-e] <local project path> ...\r\n",
      "  pip3 install [options] <archive url/path> ...\r\n",
      "\r\n",
      "no such option: -u\r\n",
      "Requirement already satisfied: sklearn in /Users/wadewilson/opt/anaconda3/envs/DA420_Project/lib/python3.7/site-packages (0.0)\r\n",
      "Requirement already satisfied: scikit-learn in /Users/wadewilson/opt/anaconda3/envs/DA420_Project/lib/python3.7/site-packages (from sklearn) (1.0.2)\r\n",
      "Requirement already satisfied: numpy>=1.14.6 in /Users/wadewilson/opt/anaconda3/envs/DA420_Project/lib/python3.7/site-packages (from scikit-learn->sklearn) (1.21.6)\r\n",
      "Requirement already satisfied: joblib>=0.11 in /Users/wadewilson/opt/anaconda3/envs/DA420_Project/lib/python3.7/site-packages (from scikit-learn->sklearn) (1.1.0)\r\n",
      "Requirement already satisfied: threadpoolctl>=2.0.0 in /Users/wadewilson/opt/anaconda3/envs/DA420_Project/lib/python3.7/site-packages (from scikit-learn->sklearn) (3.1.0)\r\n",
      "Requirement already satisfied: scipy>=1.1.0 in /Users/wadewilson/opt/anaconda3/envs/DA420_Project/lib/python3.7/site-packages (from scikit-learn->sklearn) (1.7.3)\r\n",
      "Requirement already satisfied: IPython in /Users/wadewilson/opt/anaconda3/envs/DA420_Project/lib/python3.7/site-packages (7.31.1)\r\n",
      "Requirement already satisfied: setuptools>=18.5 in /Users/wadewilson/opt/anaconda3/envs/DA420_Project/lib/python3.7/site-packages (from IPython) (61.2.0)\r\n",
      "Requirement already satisfied: matplotlib-inline in /Users/wadewilson/opt/anaconda3/envs/DA420_Project/lib/python3.7/site-packages (from IPython) (0.1.2)\r\n",
      "Requirement already satisfied: backcall in /Users/wadewilson/opt/anaconda3/envs/DA420_Project/lib/python3.7/site-packages (from IPython) (0.2.0)\r\n",
      "Requirement already satisfied: traitlets>=4.2 in /Users/wadewilson/opt/anaconda3/envs/DA420_Project/lib/python3.7/site-packages (from IPython) (5.1.1)\r\n",
      "Requirement already satisfied: pexpect>4.3 in /Users/wadewilson/opt/anaconda3/envs/DA420_Project/lib/python3.7/site-packages (from IPython) (4.8.0)\r\n",
      "Requirement already satisfied: decorator in /Users/wadewilson/opt/anaconda3/envs/DA420_Project/lib/python3.7/site-packages (from IPython) (5.1.1)\r\n",
      "Requirement already satisfied: pickleshare in /Users/wadewilson/opt/anaconda3/envs/DA420_Project/lib/python3.7/site-packages (from IPython) (0.7.5)\r\n",
      "Requirement already satisfied: prompt-toolkit!=3.0.0,!=3.0.1,<3.1.0,>=2.0.0 in /Users/wadewilson/opt/anaconda3/envs/DA420_Project/lib/python3.7/site-packages (from IPython) (3.0.20)\r\n",
      "Requirement already satisfied: pygments in /Users/wadewilson/opt/anaconda3/envs/DA420_Project/lib/python3.7/site-packages (from IPython) (2.11.2)\r\n",
      "Requirement already satisfied: appnope in /Users/wadewilson/opt/anaconda3/envs/DA420_Project/lib/python3.7/site-packages (from IPython) (0.1.2)\r\n",
      "Requirement already satisfied: jedi>=0.16 in /Users/wadewilson/opt/anaconda3/envs/DA420_Project/lib/python3.7/site-packages (from IPython) (0.18.1)\r\n",
      "Requirement already satisfied: parso<0.9.0,>=0.8.0 in /Users/wadewilson/opt/anaconda3/envs/DA420_Project/lib/python3.7/site-packages (from jedi>=0.16->IPython) (0.8.3)\r\n",
      "Requirement already satisfied: ptyprocess>=0.5 in /Users/wadewilson/opt/anaconda3/envs/DA420_Project/lib/python3.7/site-packages (from pexpect>4.3->IPython) (0.7.0)\r\n",
      "Requirement already satisfied: wcwidth in /Users/wadewilson/opt/anaconda3/envs/DA420_Project/lib/python3.7/site-packages (from prompt-toolkit!=3.0.0,!=3.0.1,<3.1.0,>=2.0.0->IPython) (0.2.5)\r\n",
      "Requirement already satisfied: matplotlib in /Users/wadewilson/opt/anaconda3/envs/DA420_Project/lib/python3.7/site-packages (3.5.2)\r\n",
      "Requirement already satisfied: pyparsing>=2.2.1 in /Users/wadewilson/opt/anaconda3/envs/DA420_Project/lib/python3.7/site-packages (from matplotlib) (3.0.4)\r\n",
      "Requirement already satisfied: cycler>=0.10 in /Users/wadewilson/opt/anaconda3/envs/DA420_Project/lib/python3.7/site-packages (from matplotlib) (0.11.0)\r\n",
      "Requirement already satisfied: pillow>=6.2.0 in /Users/wadewilson/opt/anaconda3/envs/DA420_Project/lib/python3.7/site-packages (from matplotlib) (9.1.1)\r\n",
      "Requirement already satisfied: packaging>=20.0 in /Users/wadewilson/opt/anaconda3/envs/DA420_Project/lib/python3.7/site-packages (from matplotlib) (21.3)\r\n",
      "Requirement already satisfied: kiwisolver>=1.0.1 in /Users/wadewilson/opt/anaconda3/envs/DA420_Project/lib/python3.7/site-packages (from matplotlib) (1.4.2)\r\n",
      "Requirement already satisfied: fonttools>=4.22.0 in /Users/wadewilson/opt/anaconda3/envs/DA420_Project/lib/python3.7/site-packages (from matplotlib) (4.33.3)\r\n",
      "Requirement already satisfied: python-dateutil>=2.7 in /Users/wadewilson/opt/anaconda3/envs/DA420_Project/lib/python3.7/site-packages (from matplotlib) (2.8.2)\r\n",
      "Requirement already satisfied: numpy>=1.17 in /Users/wadewilson/opt/anaconda3/envs/DA420_Project/lib/python3.7/site-packages (from matplotlib) (1.21.6)\r\n",
      "Requirement already satisfied: typing-extensions in /Users/wadewilson/opt/anaconda3/envs/DA420_Project/lib/python3.7/site-packages (from kiwisolver>=1.0.1->matplotlib) (4.1.1)\r\n",
      "Requirement already satisfied: six>=1.5 in /Users/wadewilson/opt/anaconda3/envs/DA420_Project/lib/python3.7/site-packages (from python-dateutil>=2.7->matplotlib) (1.16.0)\r\n",
      "Found existing installation: lxml 4.9.0\r\n",
      "Uninstalling lxml-4.9.0:\r\n",
      "  Would remove:\r\n",
      "    /Users/wadewilson/opt/anaconda3/envs/DA420_Project/lib/python3.7/site-packages/lxml-4.9.0.dist-info/*\r\n",
      "    /Users/wadewilson/opt/anaconda3/envs/DA420_Project/lib/python3.7/site-packages/lxml/*\r\n",
      "Proceed (Y/n)? "
     ]
    }
   ],
   "source": [
    "!pip3 install --upgrade pip\n",
    "!pip3 install pandas\n",
    "!pip3 install -upgrade pandas\n",
    "!pip3 install sklearn\n",
    "!pip3 install IPython\n",
    "\n",
    "!pip3 install matplotlib\n",
    "!pip3 uninstall lxml\n",
    "!pip3 install lxml\n",
    "!pip3 pip"
   ],
   "metadata": {
    "collapsed": false,
    "pycharm": {
     "name": "#%%\n",
     "is_executing": true
    }
   }
  },
  {
   "cell_type": "code",
   "execution_count": null,
   "outputs": [],
   "source": [
    "# Source https://www.ritchieng.com/machine-learning-iris-dataset/\n",
    "from IPython.display import HTML\n",
    "# data.iris = pd.read_csv('http://archive.ics.uci.edu/ml/machine-learning-databases/iris/iris.data')\n",
    "import lxml\n",
    "import pandas as pd\n",
    "import numpy as np\n",
    "import matplotlib.pyplot as plt\n",
    "from unicodedata import normalize\n",
    "\n",
    "table_MN = pd.read_html('https://en.wikipedia.org/wiki/Minnesota')\n",
    "print(f'Total tables: {len(table_MN)}')"
   ],
   "metadata": {
    "collapsed": false,
    "pycharm": {
     "name": "#%%\n",
     "is_executing": true
    }
   }
  },
  {
   "cell_type": "code",
   "execution_count": null,
   "outputs": [],
   "source": [
    "# import load_iris function from datasets module\n",
    "# convention is to import modules instead of sklearn as a whole\n",
    "import pandas as pd\n",
    "import numpy as np\n",
    "from sklearn.datasets import load_iris"
   ],
   "metadata": {
    "collapsed": false,
    "pycharm": {
     "name": "#%%\n",
     "is_executing": true
    }
   }
  },
  {
   "cell_type": "code",
   "execution_count": null,
   "outputs": [],
   "source": [
    "table_MN = pd.read_html('https://en.wikipedia.org/wiki/Minnesota', match='Election results from statewide races')\n",
    "len(table_MN)"
   ],
   "metadata": {
    "collapsed": false,
    "pycharm": {
     "name": "#%%\n",
     "is_executing": true
    }
   }
  },
  {
   "cell_type": "code",
   "execution_count": null,
   "outputs": [],
   "source": [
    "# save \"bunch\" object containing iris dataset and its attributes\n",
    "# the data type is \"bunch\"\n",
    "iris = load_iris()\n",
    "type(iris)\n",
    "df.iris = pd.read_csv(data.iris)\n",
    "# iris.datagrame pd.dataframe(iris)\n"
   ],
   "metadata": {
    "collapsed": false,
    "pycharm": {
     "name": "#%%\n",
     "is_executing": true
    }
   }
  },
  {
   "cell_type": "code",
   "execution_count": null,
   "outputs": [],
   "source": [
    "# print the iris data\n",
    "# same data as shown previously\n",
    "# each row represents each sample\n",
    "# each column represents the features\n",
    "print(iris.data)"
   ],
   "metadata": {
    "collapsed": false,
    "pycharm": {
     "name": "#%%\n",
     "is_executing": true
    }
   }
  },
  {
   "cell_type": "code",
   "execution_count": null,
   "outputs": [],
   "source": [
    "# print the names of the four features\n",
    "print(iris.feature_names)"
   ],
   "metadata": {
    "collapsed": false,
    "pycharm": {
     "name": "#%%\n",
     "is_executing": true
    }
   }
  },
  {
   "cell_type": "code",
   "execution_count": null,
   "outputs": [],
   "source": [
    "# print integers representing the species of each observation\n",
    "# 0, 1, and 2 represent different species\n",
    "print(iris.target)"
   ],
   "metadata": {
    "collapsed": false,
    "pycharm": {
     "name": "#%%\n",
     "is_executing": true
    }
   }
  },
  {
   "cell_type": "code",
   "execution_count": null,
   "outputs": [],
   "source": [
    "# print the encoding scheme for species: 0 = setosa, 1 = versicolor, 2 = virginica\n",
    "print(iris.target_namesf)"
   ],
   "metadata": {
    "collapsed": false,
    "pycharm": {
     "name": "#%%\n",
     "is_executing": true
    }
   }
  },
  {
   "cell_type": "markdown",
   "source": [
    "Each value we are predicting is the response (also known as: target, outcome, label, dependent variable)\n",
    "Classification is supervised learning in which the response is categorical\n",
    "\"0\": setosa\n",
    "\"1\": versicolor\n",
    "\"2\": virginica\n",
    "Regression is supervised learning in which the response is ordered and continuous\n",
    "any number (continuous)"
   ],
   "metadata": {
    "collapsed": false,
    "pycharm": {
     "name": "#%% md\n"
    }
   }
  },
  {
   "cell_type": "markdown",
   "source": [
    "7. Requirements for working with data in scikit-learn\n",
    "Features and response are separate objects\n",
    "In this case, data and target are separate\n",
    "Features and response should be numeric\n",
    "In this case, features and response are numeric with the matrix dimension of 150 x 4\n",
    "Features and response should be NumPy arrays\n",
    "The iris dataset contains NumPy arrays already\n",
    "For other dataset, by loading them into NumPy\n",
    "Features and response should have specific shapes\n",
    "150 x 4 for whole dataset\n",
    "150 x 1 for examples\n",
    "4 x 1 for features\n",
    "you can convert the matrix accordingly using np.tile(a, [4, 1]), where a is the matrix and [4, 1] is the intended matrix dimensionality"
   ],
   "metadata": {
    "collapsed": false,
    "pycharm": {
     "name": "#%% md\n"
    }
   }
  },
  {
   "cell_type": "code",
   "execution_count": null,
   "outputs": [],
   "source": [
    "# check the types of the features and response\n",
    "print(type(iris.data))\n",
    "print(type(iris.target))"
   ],
   "metadata": {
    "collapsed": false,
    "pycharm": {
     "name": "#%%\n",
     "is_executing": true
    }
   }
  },
  {
   "cell_type": "code",
   "execution_count": null,
   "outputs": [],
   "source": [
    "# check the shape of the features (first dimension = number of observations, second dimensions = number of features)\n",
    "print(iris.data.shape)"
   ],
   "metadata": {
    "collapsed": false,
    "pycharm": {
     "name": "#%%\n",
     "is_executing": true
    }
   }
  },
  {
   "cell_type": "code",
   "execution_count": null,
   "outputs": [],
   "source": [
    "# check the shape of the response (single dimension matching the number of observations)\n",
    "print(iris.target.shape)"
   ],
   "metadata": {
    "collapsed": false,
    "pycharm": {
     "name": "#%%\n",
     "is_executing": true
    }
   }
  },
  {
   "cell_type": "code",
   "execution_count": null,
   "outputs": [],
   "source": [
    "# store feature matrix in \"X\"\n",
    "X = iris.data\n",
    "\n",
    "# store response vector in \"y\"\n",
    "y = iris.target"
   ],
   "metadata": {
    "collapsed": false,
    "pycharm": {
     "name": "#%%\n",
     "is_executing": true
    }
   }
  }
 ],
 "metadata": {
  "kernelspec": {
   "display_name": "Python 3",
   "language": "python",
   "name": "python3"
  },
  "language_info": {
   "codemirror_mode": {
    "name": "ipython",
    "version": 2
   },
   "file_extension": ".py",
   "mimetype": "text/x-python",
   "name": "python",
   "nbconvert_exporter": "python",
   "pygments_lexer": "ipython2",
   "version": "2.7.6"
  }
 },
 "nbformat": 4,
 "nbformat_minor": 0
}